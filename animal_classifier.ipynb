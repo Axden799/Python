{
 "cells": [
  {
   "cell_type": "code",
   "execution_count": null,
   "metadata": {},
   "outputs": [],
   "source": [
    "import sys\n",
    "!{sys.executable} -m pip install librosa\n",
    "!{sys.executable} -m pip install jupyter_helpers"
   ]
  },
  {
   "cell_type": "code",
   "execution_count": 1,
   "metadata": {},
   "outputs": [],
   "source": [
    "# Load various imports \n",
    "import pandas as pd\n",
    "import numpy as np\n",
    "import os\n",
    "import glob\n",
    "import wave\n",
    "import librosa\n",
    "import librosa.display"
   ]
  },
  {
   "cell_type": "code",
   "execution_count": 2,
   "metadata": {},
   "outputs": [],
   "source": [
    "import numpy as np\n",
    "max_pad_len = 1200\n",
    "def extract_features2(file_name):\n",
    "   \n",
    "    try:\n",
    "        audio, sample_rate = librosa.load(file_name, res_type='kaiser_fast') \n",
    "        mfccs = librosa.feature.mfcc(y=audio, sr=sample_rate, n_mfcc=40)\n",
    "        pad_width = max_pad_len - mfccs.shape[1]\n",
    "        mfccs = np.pad(mfccs, pad_width=((0, 0), (0, pad_width)), mode='constant')\n",
    "        \n",
    "    except Exception as e:\n",
    "        print(\"Error encountered while parsing file: \", file_name)\n",
    "        return None \n",
    "     \n",
    "    return mfccs"
   ]
  },
  {
   "cell_type": "code",
   "execution_count": 3,
   "metadata": {},
   "outputs": [],
   "source": [
    "fulldatasetpath = 'F:\\Essential Files\\Coding Projects\\senior design 2\\wav_files'\n",
    "\n",
    "metadata = pd.read_csv('F:\\Essential Files\\Coding Projects\\senior design 2\\metadata.csv')\n",
    "\n",
    "features2 = []\n",
    "\n",
    "for index, row in metadata.iterrows():\n",
    "    name = \"\\\\\"\n",
    "    name = name + str(row[\"file\"])\n",
    "    file_name = os.path.join(fulldatasetpath + name)\n",
    "    \n",
    "    data = extract_features2(file_name)\n",
    "    animal = str(row[\"animal\"])\n",
    "    features2.append([data, animal])"
   ]
  },
  {
   "cell_type": "code",
   "execution_count": 4,
   "metadata": {},
   "outputs": [],
   "source": [
    "featuresdf = pd.DataFrame(features2, columns=['feature','animal'])"
   ]
  },
  {
   "cell_type": "code",
   "execution_count": null,
   "metadata": {},
   "outputs": [],
   "source": [
    "!{sys.executable} -m pip install tensorflow"
   ]
  },
  {
   "cell_type": "code",
   "execution_count": null,
   "metadata": {},
   "outputs": [],
   "source": [
    "!{sys.executable} -m pip install keras-utils"
   ]
  },
  {
   "cell_type": "code",
   "execution_count": null,
   "metadata": {},
   "outputs": [],
   "source": [
    "pip install --ignore-installed --upgrade tensorflow"
   ]
  },
  {
   "cell_type": "code",
   "execution_count": 5,
   "metadata": {},
   "outputs": [],
   "source": [
    "import tensorflow as tf"
   ]
  },
  {
   "cell_type": "code",
   "execution_count": 6,
   "metadata": {},
   "outputs": [
    {
     "name": "stderr",
     "output_type": "stream",
     "text": [
      "Using TensorFlow backend.\n"
     ]
    }
   ],
   "source": [
    "from sklearn.preprocessing import LabelEncoder\n",
    "from keras.utils import to_categorical\n",
    "\n",
    "# Convert features and corresponding classification labels into numpy arrays\n",
    "X = np.array(featuresdf.feature.tolist())\n",
    "y = np.array(featuresdf.animal.tolist())\n",
    "\n",
    "# Encode the classification labels\n",
    "le = LabelEncoder()\n",
    "yy = to_categorical(le.fit_transform(y)) \n",
    "\n",
    "# split the dataset \n",
    "from sklearn.model_selection import train_test_split \n",
    "\n",
    "x_train, x_test, y_train, y_test = train_test_split(X, yy, test_size=0.2, random_state = 42)"
   ]
  },
  {
   "cell_type": "code",
   "execution_count": 7,
   "metadata": {},
   "outputs": [],
   "source": [
    "from keras.models import Sequential\n",
    "from keras.layers import Dense, Dropout, Activation, Flatten\n",
    "from keras.layers import Convolution2D, Conv2D, MaxPooling2D, GlobalAveragePooling2D\n",
    "from keras.optimizers import Adam\n",
    "from keras.utils import np_utils\n",
    "from sklearn import metrics \n",
    "\n",
    "num_rows = 40\n",
    "num_columns = 1200\n",
    "num_channels = 1\n",
    "\n",
    "x_train = x_train.reshape(x_train.shape[0], num_rows, num_columns, num_channels)\n",
    "x_test = x_test.reshape(x_test.shape[0], num_rows, num_columns, num_channels)\n",
    "\n",
    "num_labels = yy.shape[1]\n",
    "filter_size = 2\n",
    "\n",
    "# Construct model \n",
    "model = Sequential()\n",
    "model.add(Conv2D(filters=16, kernel_size=2, input_shape=(num_rows, num_columns, num_channels), activation='relu'))\n",
    "model.add(MaxPooling2D(pool_size=2))\n",
    "model.add(Dropout(0.2))\n",
    "\n",
    "model.add(Conv2D(filters=32, kernel_size=2, activation='relu'))\n",
    "model.add(MaxPooling2D(pool_size=2))\n",
    "model.add(Dropout(0.2))\n",
    "\n",
    "model.add(Conv2D(filters=64, kernel_size=2, activation='relu'))\n",
    "model.add(MaxPooling2D(pool_size=2))\n",
    "model.add(Dropout(0.2))\n",
    "\n",
    "model.add(Conv2D(filters=128, kernel_size=2, activation='relu'))\n",
    "model.add(MaxPooling2D(pool_size=2))\n",
    "model.add(Dropout(0.2))\n",
    "model.add(GlobalAveragePooling2D())\n",
    "\n",
    "model.add(Dense(num_labels, activation='softmax'))"
   ]
  },
  {
   "cell_type": "code",
   "execution_count": 8,
   "metadata": {},
   "outputs": [],
   "source": [
    "# Compile the model\n",
    "model.compile(loss='categorical_crossentropy', metrics=['accuracy'], optimizer='adam')"
   ]
  },
  {
   "cell_type": "code",
   "execution_count": 9,
   "metadata": {},
   "outputs": [
    {
     "name": "stdout",
     "output_type": "stream",
     "text": [
      "Model: \"sequential_1\"\n",
      "_________________________________________________________________\n",
      "Layer (type)                 Output Shape              Param #   \n",
      "=================================================================\n",
      "conv2d_1 (Conv2D)            (None, 39, 1199, 16)      80        \n",
      "_________________________________________________________________\n",
      "max_pooling2d_1 (MaxPooling2 (None, 19, 599, 16)       0         \n",
      "_________________________________________________________________\n",
      "dropout_1 (Dropout)          (None, 19, 599, 16)       0         \n",
      "_________________________________________________________________\n",
      "conv2d_2 (Conv2D)            (None, 18, 598, 32)       2080      \n",
      "_________________________________________________________________\n",
      "max_pooling2d_2 (MaxPooling2 (None, 9, 299, 32)        0         \n",
      "_________________________________________________________________\n",
      "dropout_2 (Dropout)          (None, 9, 299, 32)        0         \n",
      "_________________________________________________________________\n",
      "conv2d_3 (Conv2D)            (None, 8, 298, 64)        8256      \n",
      "_________________________________________________________________\n",
      "max_pooling2d_3 (MaxPooling2 (None, 4, 149, 64)        0         \n",
      "_________________________________________________________________\n",
      "dropout_3 (Dropout)          (None, 4, 149, 64)        0         \n",
      "_________________________________________________________________\n",
      "conv2d_4 (Conv2D)            (None, 3, 148, 128)       32896     \n",
      "_________________________________________________________________\n",
      "max_pooling2d_4 (MaxPooling2 (None, 1, 74, 128)        0         \n",
      "_________________________________________________________________\n",
      "dropout_4 (Dropout)          (None, 1, 74, 128)        0         \n",
      "_________________________________________________________________\n",
      "global_average_pooling2d_1 ( (None, 128)               0         \n",
      "_________________________________________________________________\n",
      "dense_1 (Dense)              (None, 3)                 387       \n",
      "=================================================================\n",
      "Total params: 43,699\n",
      "Trainable params: 43,699\n",
      "Non-trainable params: 0\n",
      "_________________________________________________________________\n",
      "57/57 [==============================] - 0s 7ms/step\n",
      "Pre-training accuracy: 42.1053%\n"
     ]
    }
   ],
   "source": [
    "\n",
    "# Display model architecture summary \n",
    "model.summary()\n",
    "\n",
    "# Calculate pre-training accuracy \n",
    "score = model.evaluate(x_test, y_test, verbose=1)\n",
    "accuracy = 100*score[1]\n",
    "\n",
    "print(\"Pre-training accuracy: %.4f%%\" % accuracy)\n",
    "\n"
   ]
  },
  {
   "cell_type": "code",
   "execution_count": 10,
   "metadata": {},
   "outputs": [
    {
     "name": "stdout",
     "output_type": "stream",
     "text": [
      "Train on 224 samples, validate on 57 samples\n",
      "Epoch 1/72\n",
      "224/224 [==============================] - 5s 25ms/step - loss: 1.8399 - accuracy: 0.2991 - val_loss: 1.0456 - val_accuracy: 0.4035\n",
      "\n",
      "Epoch 00001: val_loss improved from inf to 1.04556, saving model to F:\\Essential Files\\Coding Projects\\senior design 2\\weights.best.basic_mlp.hdf5\n",
      "Epoch 2/72\n",
      "224/224 [==============================] - 5s 21ms/step - loss: 1.4659 - accuracy: 0.3304 - val_loss: 1.1512 - val_accuracy: 0.3509\n",
      "\n",
      "Epoch 00002: val_loss did not improve from 1.04556\n",
      "Epoch 3/72\n",
      "224/224 [==============================] - 5s 21ms/step - loss: 1.8910 - accuracy: 0.4241 - val_loss: 1.0690 - val_accuracy: 0.3860\n",
      "\n",
      "Epoch 00003: val_loss did not improve from 1.04556\n",
      "Epoch 4/72\n",
      "224/224 [==============================] - 5s 23ms/step - loss: 1.6472 - accuracy: 0.3839 - val_loss: 1.0765 - val_accuracy: 0.4035\n",
      "\n",
      "Epoch 00004: val_loss did not improve from 1.04556\n",
      "Epoch 5/72\n",
      "224/224 [==============================] - 5s 21ms/step - loss: 1.6891 - accuracy: 0.3438 - val_loss: 0.9783 - val_accuracy: 0.3860\n",
      "\n",
      "Epoch 00005: val_loss improved from 1.04556 to 0.97832, saving model to F:\\Essential Files\\Coding Projects\\senior design 2\\weights.best.basic_mlp.hdf5\n",
      "Epoch 6/72\n",
      "224/224 [==============================] - 5s 21ms/step - loss: 1.3347 - accuracy: 0.4152 - val_loss: 0.9096 - val_accuracy: 0.5614\n",
      "\n",
      "Epoch 00006: val_loss improved from 0.97832 to 0.90961, saving model to F:\\Essential Files\\Coding Projects\\senior design 2\\weights.best.basic_mlp.hdf5\n",
      "Epoch 7/72\n",
      "224/224 [==============================] - 5s 22ms/step - loss: 1.1497 - accuracy: 0.4241 - val_loss: 0.9048 - val_accuracy: 0.5614\n",
      "\n",
      "Epoch 00007: val_loss improved from 0.90961 to 0.90483, saving model to F:\\Essential Files\\Coding Projects\\senior design 2\\weights.best.basic_mlp.hdf5\n",
      "Epoch 8/72\n",
      "224/224 [==============================] - 6s 26ms/step - loss: 1.0303 - accuracy: 0.4955 - val_loss: 0.9451 - val_accuracy: 0.6491\n",
      "\n",
      "Epoch 00008: val_loss did not improve from 0.90483\n",
      "Epoch 9/72\n",
      "224/224 [==============================] - 5s 23ms/step - loss: 1.0470 - accuracy: 0.4866 - val_loss: 0.9829 - val_accuracy: 0.5263\n",
      "\n",
      "Epoch 00009: val_loss did not improve from 0.90483\n",
      "Epoch 10/72\n",
      "224/224 [==============================] - 5s 23ms/step - loss: 1.1116 - accuracy: 0.4554 - val_loss: 0.9682 - val_accuracy: 0.5614\n",
      "\n",
      "Epoch 00010: val_loss did not improve from 0.90483\n",
      "Epoch 11/72\n",
      "224/224 [==============================] - 5s 23ms/step - loss: 1.0554 - accuracy: 0.4866 - val_loss: 0.9410 - val_accuracy: 0.5439\n",
      "\n",
      "Epoch 00011: val_loss did not improve from 0.90483\n",
      "Epoch 12/72\n",
      "224/224 [==============================] - 6s 26ms/step - loss: 1.0444 - accuracy: 0.5402 - val_loss: 0.9046 - val_accuracy: 0.5439\n",
      "\n",
      "Epoch 00012: val_loss improved from 0.90483 to 0.90465, saving model to F:\\Essential Files\\Coding Projects\\senior design 2\\weights.best.basic_mlp.hdf5\n",
      "Epoch 13/72\n",
      "224/224 [==============================] - 6s 26ms/step - loss: 0.9787 - accuracy: 0.5402 - val_loss: 0.8636 - val_accuracy: 0.6491\n",
      "\n",
      "Epoch 00013: val_loss improved from 0.90465 to 0.86358, saving model to F:\\Essential Files\\Coding Projects\\senior design 2\\weights.best.basic_mlp.hdf5\n",
      "Epoch 14/72\n",
      "224/224 [==============================] - 5s 24ms/step - loss: 0.8402 - accuracy: 0.6562 - val_loss: 0.8426 - val_accuracy: 0.6491\n",
      "\n",
      "Epoch 00014: val_loss improved from 0.86358 to 0.84261, saving model to F:\\Essential Files\\Coding Projects\\senior design 2\\weights.best.basic_mlp.hdf5\n",
      "Epoch 15/72\n",
      "224/224 [==============================] - 5s 24ms/step - loss: 0.8941 - accuracy: 0.5357 - val_loss: 0.8418 - val_accuracy: 0.5965\n",
      "\n",
      "Epoch 00015: val_loss improved from 0.84261 to 0.84177, saving model to F:\\Essential Files\\Coding Projects\\senior design 2\\weights.best.basic_mlp.hdf5\n",
      "Epoch 16/72\n",
      "224/224 [==============================] - 5s 23ms/step - loss: 0.9512 - accuracy: 0.5134 - val_loss: 0.8357 - val_accuracy: 0.5965\n",
      "\n",
      "Epoch 00016: val_loss improved from 0.84177 to 0.83570, saving model to F:\\Essential Files\\Coding Projects\\senior design 2\\weights.best.basic_mlp.hdf5\n",
      "Epoch 17/72\n",
      "224/224 [==============================] - 5s 24ms/step - loss: 0.9399 - accuracy: 0.5045 - val_loss: 0.8239 - val_accuracy: 0.6667\n",
      "\n",
      "Epoch 00017: val_loss improved from 0.83570 to 0.82392, saving model to F:\\Essential Files\\Coding Projects\\senior design 2\\weights.best.basic_mlp.hdf5\n",
      "Epoch 18/72\n",
      "224/224 [==============================] - 5s 24ms/step - loss: 0.8940 - accuracy: 0.5402 - val_loss: 0.8212 - val_accuracy: 0.6316\n",
      "\n",
      "Epoch 00018: val_loss improved from 0.82392 to 0.82116, saving model to F:\\Essential Files\\Coding Projects\\senior design 2\\weights.best.basic_mlp.hdf5\n",
      "Epoch 19/72\n",
      "224/224 [==============================] - 5s 23ms/step - loss: 0.8345 - accuracy: 0.6339 - val_loss: 0.8295 - val_accuracy: 0.6667\n",
      "\n",
      "Epoch 00019: val_loss did not improve from 0.82116\n",
      "Epoch 20/72\n",
      "224/224 [==============================] - 5s 23ms/step - loss: 0.8227 - accuracy: 0.6473 - val_loss: 0.8355 - val_accuracy: 0.7018\n",
      "\n",
      "Epoch 00020: val_loss did not improve from 0.82116\n",
      "Epoch 21/72\n",
      "224/224 [==============================] - 5s 23ms/step - loss: 0.8386 - accuracy: 0.6964 - val_loss: 0.8308 - val_accuracy: 0.7193\n",
      "\n",
      "Epoch 00021: val_loss did not improve from 0.82116\n",
      "Epoch 22/72\n",
      "224/224 [==============================] - 5s 23ms/step - loss: 0.7897 - accuracy: 0.7277 - val_loss: 0.8202 - val_accuracy: 0.7895\n",
      "\n",
      "Epoch 00022: val_loss improved from 0.82116 to 0.82016, saving model to F:\\Essential Files\\Coding Projects\\senior design 2\\weights.best.basic_mlp.hdf5\n",
      "Epoch 23/72\n",
      "224/224 [==============================] - 5s 23ms/step - loss: 0.7981 - accuracy: 0.7277 - val_loss: 0.8089 - val_accuracy: 0.7895\n",
      "\n",
      "Epoch 00023: val_loss improved from 0.82016 to 0.80892, saving model to F:\\Essential Files\\Coding Projects\\senior design 2\\weights.best.basic_mlp.hdf5\n",
      "Epoch 24/72\n",
      "224/224 [==============================] - 5s 23ms/step - loss: 0.7568 - accuracy: 0.7411 - val_loss: 0.7974 - val_accuracy: 0.7719\n",
      "\n",
      "Epoch 00024: val_loss improved from 0.80892 to 0.79739, saving model to F:\\Essential Files\\Coding Projects\\senior design 2\\weights.best.basic_mlp.hdf5\n",
      "Epoch 25/72\n",
      "224/224 [==============================] - 5s 23ms/step - loss: 0.7982 - accuracy: 0.6964 - val_loss: 0.7842 - val_accuracy: 0.7544\n",
      "\n",
      "Epoch 00025: val_loss improved from 0.79739 to 0.78418, saving model to F:\\Essential Files\\Coding Projects\\senior design 2\\weights.best.basic_mlp.hdf5\n",
      "Epoch 26/72\n",
      "224/224 [==============================] - 5s 23ms/step - loss: 0.7954 - accuracy: 0.6696 - val_loss: 0.7697 - val_accuracy: 0.8070\n",
      "\n",
      "Epoch 00026: val_loss improved from 0.78418 to 0.76969, saving model to F:\\Essential Files\\Coding Projects\\senior design 2\\weights.best.basic_mlp.hdf5\n",
      "Epoch 27/72\n",
      "224/224 [==============================] - 5s 24ms/step - loss: 0.7330 - accuracy: 0.7143 - val_loss: 0.7592 - val_accuracy: 0.8246\n",
      "\n",
      "Epoch 00027: val_loss improved from 0.76969 to 0.75922, saving model to F:\\Essential Files\\Coding Projects\\senior design 2\\weights.best.basic_mlp.hdf5\n",
      "Epoch 28/72\n",
      "224/224 [==============================] - 5s 23ms/step - loss: 0.7183 - accuracy: 0.7411 - val_loss: 0.7546 - val_accuracy: 0.8070\n",
      "\n",
      "Epoch 00028: val_loss improved from 0.75922 to 0.75463, saving model to F:\\Essential Files\\Coding Projects\\senior design 2\\weights.best.basic_mlp.hdf5\n",
      "Epoch 29/72\n",
      "224/224 [==============================] - 5s 23ms/step - loss: 0.7053 - accuracy: 0.7321 - val_loss: 0.7526 - val_accuracy: 0.7544\n",
      "\n",
      "Epoch 00029: val_loss improved from 0.75463 to 0.75265, saving model to F:\\Essential Files\\Coding Projects\\senior design 2\\weights.best.basic_mlp.hdf5\n",
      "Epoch 30/72\n",
      "224/224 [==============================] - 5s 23ms/step - loss: 0.7155 - accuracy: 0.7232 - val_loss: 0.7476 - val_accuracy: 0.7544\n",
      "\n",
      "Epoch 00030: val_loss improved from 0.75265 to 0.74757, saving model to F:\\Essential Files\\Coding Projects\\senior design 2\\weights.best.basic_mlp.hdf5\n",
      "Epoch 31/72\n",
      "224/224 [==============================] - 5s 23ms/step - loss: 0.7212 - accuracy: 0.7277 - val_loss: 0.7374 - val_accuracy: 0.7544\n",
      "\n",
      "Epoch 00031: val_loss improved from 0.74757 to 0.73739, saving model to F:\\Essential Files\\Coding Projects\\senior design 2\\weights.best.basic_mlp.hdf5\n",
      "Epoch 32/72\n",
      "224/224 [==============================] - 5s 23ms/step - loss: 0.7044 - accuracy: 0.7232 - val_loss: 0.7239 - val_accuracy: 0.8070\n",
      "\n",
      "Epoch 00032: val_loss improved from 0.73739 to 0.72392, saving model to F:\\Essential Files\\Coding Projects\\senior design 2\\weights.best.basic_mlp.hdf5\n",
      "Epoch 33/72\n",
      "224/224 [==============================] - 5s 23ms/step - loss: 0.6881 - accuracy: 0.7679 - val_loss: 0.7102 - val_accuracy: 0.8070\n",
      "\n",
      "Epoch 00033: val_loss improved from 0.72392 to 0.71023, saving model to F:\\Essential Files\\Coding Projects\\senior design 2\\weights.best.basic_mlp.hdf5\n",
      "Epoch 34/72\n",
      "224/224 [==============================] - 5s 23ms/step - loss: 0.6603 - accuracy: 0.7500 - val_loss: 0.6997 - val_accuracy: 0.8421\n",
      "\n",
      "Epoch 00034: val_loss improved from 0.71023 to 0.69973, saving model to F:\\Essential Files\\Coding Projects\\senior design 2\\weights.best.basic_mlp.hdf5\n",
      "Epoch 35/72\n",
      "224/224 [==============================] - 5s 23ms/step - loss: 0.6743 - accuracy: 0.7679 - val_loss: 0.6931 - val_accuracy: 0.8070\n",
      "\n",
      "Epoch 00035: val_loss improved from 0.69973 to 0.69313, saving model to F:\\Essential Files\\Coding Projects\\senior design 2\\weights.best.basic_mlp.hdf5\n",
      "Epoch 36/72\n",
      "224/224 [==============================] - 5s 23ms/step - loss: 0.6573 - accuracy: 0.7768 - val_loss: 0.6868 - val_accuracy: 0.8421\n",
      "\n",
      "Epoch 00036: val_loss improved from 0.69313 to 0.68677, saving model to F:\\Essential Files\\Coding Projects\\senior design 2\\weights.best.basic_mlp.hdf5\n",
      "Epoch 37/72\n",
      "224/224 [==============================] - 5s 24ms/step - loss: 0.6394 - accuracy: 0.7991 - val_loss: 0.6807 - val_accuracy: 0.8246\n",
      "\n",
      "Epoch 00037: val_loss improved from 0.68677 to 0.68068, saving model to F:\\Essential Files\\Coding Projects\\senior design 2\\weights.best.basic_mlp.hdf5\n",
      "Epoch 38/72\n",
      "224/224 [==============================] - 5s 24ms/step - loss: 0.6136 - accuracy: 0.7991 - val_loss: 0.6731 - val_accuracy: 0.8596\n",
      "\n",
      "Epoch 00038: val_loss improved from 0.68068 to 0.67311, saving model to F:\\Essential Files\\Coding Projects\\senior design 2\\weights.best.basic_mlp.hdf5\n",
      "Epoch 39/72\n",
      "224/224 [==============================] - 5s 23ms/step - loss: 0.6073 - accuracy: 0.8259 - val_loss: 0.6654 - val_accuracy: 0.8421\n",
      "\n",
      "Epoch 00039: val_loss improved from 0.67311 to 0.66545, saving model to F:\\Essential Files\\Coding Projects\\senior design 2\\weights.best.basic_mlp.hdf5\n",
      "Epoch 40/72\n",
      "224/224 [==============================] - 5s 23ms/step - loss: 0.6223 - accuracy: 0.7991 - val_loss: 0.6574 - val_accuracy: 0.8246\n",
      "\n",
      "Epoch 00040: val_loss improved from 0.66545 to 0.65743, saving model to F:\\Essential Files\\Coding Projects\\senior design 2\\weights.best.basic_mlp.hdf5\n",
      "Epoch 41/72\n",
      "224/224 [==============================] - 5s 23ms/step - loss: 0.6188 - accuracy: 0.7723 - val_loss: 0.6482 - val_accuracy: 0.8246\n",
      "\n",
      "Epoch 00041: val_loss improved from 0.65743 to 0.64819, saving model to F:\\Essential Files\\Coding Projects\\senior design 2\\weights.best.basic_mlp.hdf5\n",
      "Epoch 42/72\n",
      "224/224 [==============================] - 5s 23ms/step - loss: 0.6028 - accuracy: 0.7991 - val_loss: 0.6379 - val_accuracy: 0.8246\n",
      "\n",
      "Epoch 00042: val_loss improved from 0.64819 to 0.63795, saving model to F:\\Essential Files\\Coding Projects\\senior design 2\\weights.best.basic_mlp.hdf5\n",
      "Epoch 43/72\n",
      "224/224 [==============================] - 5s 23ms/step - loss: 0.5694 - accuracy: 0.8036 - val_loss: 0.6264 - val_accuracy: 0.8596\n",
      "\n",
      "Epoch 00043: val_loss improved from 0.63795 to 0.62644, saving model to F:\\Essential Files\\Coding Projects\\senior design 2\\weights.best.basic_mlp.hdf5\n",
      "Epoch 44/72\n",
      "224/224 [==============================] - 5s 23ms/step - loss: 0.5568 - accuracy: 0.8348 - val_loss: 0.6165 - val_accuracy: 0.8947\n",
      "\n",
      "Epoch 00044: val_loss improved from 0.62644 to 0.61648, saving model to F:\\Essential Files\\Coding Projects\\senior design 2\\weights.best.basic_mlp.hdf5\n",
      "Epoch 45/72\n",
      "224/224 [==============================] - 5s 23ms/step - loss: 0.6029 - accuracy: 0.7723 - val_loss: 0.6083 - val_accuracy: 0.8772\n",
      "\n",
      "Epoch 00045: val_loss improved from 0.61648 to 0.60828, saving model to F:\\Essential Files\\Coding Projects\\senior design 2\\weights.best.basic_mlp.hdf5\n",
      "Epoch 46/72\n",
      "224/224 [==============================] - 5s 24ms/step - loss: 0.5604 - accuracy: 0.8259 - val_loss: 0.6023 - val_accuracy: 0.8772\n",
      "\n",
      "Epoch 00046: val_loss improved from 0.60828 to 0.60229, saving model to F:\\Essential Files\\Coding Projects\\senior design 2\\weights.best.basic_mlp.hdf5\n",
      "Epoch 47/72\n",
      "224/224 [==============================] - 5s 24ms/step - loss: 0.5543 - accuracy: 0.8259 - val_loss: 0.5977 - val_accuracy: 0.8772\n",
      "\n",
      "Epoch 00047: val_loss improved from 0.60229 to 0.59766, saving model to F:\\Essential Files\\Coding Projects\\senior design 2\\weights.best.basic_mlp.hdf5\n",
      "Epoch 48/72\n",
      "224/224 [==============================] - 5s 24ms/step - loss: 0.5513 - accuracy: 0.8304 - val_loss: 0.5934 - val_accuracy: 0.8772\n",
      "\n",
      "Epoch 00048: val_loss improved from 0.59766 to 0.59336, saving model to F:\\Essential Files\\Coding Projects\\senior design 2\\weights.best.basic_mlp.hdf5\n",
      "Epoch 49/72\n",
      "224/224 [==============================] - 5s 24ms/step - loss: 0.5405 - accuracy: 0.8348 - val_loss: 0.5869 - val_accuracy: 0.8772\n",
      "\n",
      "Epoch 00049: val_loss improved from 0.59336 to 0.58693, saving model to F:\\Essential Files\\Coding Projects\\senior design 2\\weights.best.basic_mlp.hdf5\n",
      "Epoch 50/72\n",
      "224/224 [==============================] - 5s 23ms/step - loss: 0.5225 - accuracy: 0.8393 - val_loss: 0.5781 - val_accuracy: 0.8947\n",
      "\n",
      "Epoch 00050: val_loss improved from 0.58693 to 0.57809, saving model to F:\\Essential Files\\Coding Projects\\senior design 2\\weights.best.basic_mlp.hdf5\n",
      "Epoch 51/72\n",
      "224/224 [==============================] - 6s 26ms/step - loss: 0.5027 - accuracy: 0.8259 - val_loss: 0.5665 - val_accuracy: 0.8947\n",
      "\n",
      "Epoch 00051: val_loss improved from 0.57809 to 0.56649, saving model to F:\\Essential Files\\Coding Projects\\senior design 2\\weights.best.basic_mlp.hdf5\n",
      "Epoch 52/72\n",
      "224/224 [==============================] - 6s 25ms/step - loss: 0.4964 - accuracy: 0.8571 - val_loss: 0.5568 - val_accuracy: 0.9298\n",
      "\n",
      "Epoch 00052: val_loss improved from 0.56649 to 0.55684, saving model to F:\\Essential Files\\Coding Projects\\senior design 2\\weights.best.basic_mlp.hdf5\n",
      "Epoch 53/72\n",
      "224/224 [==============================] - 6s 27ms/step - loss: 0.5108 - accuracy: 0.8527 - val_loss: 0.5487 - val_accuracy: 0.9298\n",
      "\n",
      "Epoch 00053: val_loss improved from 0.55684 to 0.54872, saving model to F:\\Essential Files\\Coding Projects\\senior design 2\\weights.best.basic_mlp.hdf5\n",
      "Epoch 54/72\n",
      "224/224 [==============================] - 6s 28ms/step - loss: 0.4942 - accuracy: 0.8438 - val_loss: 0.5439 - val_accuracy: 0.9123\n",
      "\n",
      "Epoch 00054: val_loss improved from 0.54872 to 0.54393, saving model to F:\\Essential Files\\Coding Projects\\senior design 2\\weights.best.basic_mlp.hdf5\n",
      "Epoch 55/72\n",
      "224/224 [==============================] - 6s 27ms/step - loss: 0.4698 - accuracy: 0.8527 - val_loss: 0.5397 - val_accuracy: 0.9123\n",
      "\n",
      "Epoch 00055: val_loss improved from 0.54393 to 0.53966, saving model to F:\\Essential Files\\Coding Projects\\senior design 2\\weights.best.basic_mlp.hdf5\n",
      "Epoch 56/72\n",
      "224/224 [==============================] - 6s 25ms/step - loss: 0.4632 - accuracy: 0.8705 - val_loss: 0.5340 - val_accuracy: 0.9123\n",
      "\n",
      "Epoch 00056: val_loss improved from 0.53966 to 0.53399, saving model to F:\\Essential Files\\Coding Projects\\senior design 2\\weights.best.basic_mlp.hdf5\n",
      "Epoch 57/72\n",
      "224/224 [==============================] - 6s 26ms/step - loss: 0.4624 - accuracy: 0.8527 - val_loss: 0.5244 - val_accuracy: 0.8947\n",
      "\n",
      "Epoch 00057: val_loss improved from 0.53399 to 0.52437, saving model to F:\\Essential Files\\Coding Projects\\senior design 2\\weights.best.basic_mlp.hdf5\n",
      "Epoch 58/72\n",
      "224/224 [==============================] - 6s 26ms/step - loss: 0.4706 - accuracy: 0.8438 - val_loss: 0.5149 - val_accuracy: 0.9123\n",
      "\n",
      "Epoch 00058: val_loss improved from 0.52437 to 0.51493, saving model to F:\\Essential Files\\Coding Projects\\senior design 2\\weights.best.basic_mlp.hdf5\n",
      "Epoch 59/72\n",
      "224/224 [==============================] - 5s 23ms/step - loss: 0.4535 - accuracy: 0.8750 - val_loss: 0.5072 - val_accuracy: 0.8947\n",
      "\n",
      "Epoch 00059: val_loss improved from 0.51493 to 0.50718, saving model to F:\\Essential Files\\Coding Projects\\senior design 2\\weights.best.basic_mlp.hdf5\n",
      "Epoch 60/72\n",
      "224/224 [==============================] - 6s 28ms/step - loss: 0.4584 - accuracy: 0.8750 - val_loss: 0.5020 - val_accuracy: 0.9123\n",
      "\n",
      "Epoch 00060: val_loss improved from 0.50718 to 0.50198, saving model to F:\\Essential Files\\Coding Projects\\senior design 2\\weights.best.basic_mlp.hdf5\n",
      "Epoch 61/72\n",
      "224/224 [==============================] - 5s 24ms/step - loss: 0.4462 - accuracy: 0.8616 - val_loss: 0.4977 - val_accuracy: 0.9298\n",
      "\n",
      "Epoch 00061: val_loss improved from 0.50198 to 0.49774, saving model to F:\\Essential Files\\Coding Projects\\senior design 2\\weights.best.basic_mlp.hdf5\n",
      "Epoch 62/72\n",
      "224/224 [==============================] - 6s 25ms/step - loss: 0.4641 - accuracy: 0.8661 - val_loss: 0.4918 - val_accuracy: 0.9298\n",
      "\n",
      "Epoch 00062: val_loss improved from 0.49774 to 0.49183, saving model to F:\\Essential Files\\Coding Projects\\senior design 2\\weights.best.basic_mlp.hdf5\n",
      "Epoch 63/72\n",
      "224/224 [==============================] - 5s 24ms/step - loss: 0.4372 - accuracy: 0.8750 - val_loss: 0.4857 - val_accuracy: 0.9298\n",
      "\n",
      "Epoch 00063: val_loss improved from 0.49183 to 0.48570, saving model to F:\\Essential Files\\Coding Projects\\senior design 2\\weights.best.basic_mlp.hdf5\n",
      "Epoch 64/72\n",
      "224/224 [==============================] - 5s 24ms/step - loss: 0.4308 - accuracy: 0.8571 - val_loss: 0.4785 - val_accuracy: 0.9123\n",
      "\n",
      "Epoch 00064: val_loss improved from 0.48570 to 0.47846, saving model to F:\\Essential Files\\Coding Projects\\senior design 2\\weights.best.basic_mlp.hdf5\n",
      "Epoch 65/72\n",
      "224/224 [==============================] - 5s 23ms/step - loss: 0.4205 - accuracy: 0.8705 - val_loss: 0.4729 - val_accuracy: 0.9123\n",
      "\n",
      "Epoch 00065: val_loss improved from 0.47846 to 0.47293, saving model to F:\\Essential Files\\Coding Projects\\senior design 2\\weights.best.basic_mlp.hdf5\n",
      "Epoch 66/72\n",
      "224/224 [==============================] - 5s 23ms/step - loss: 0.3741 - accuracy: 0.8795 - val_loss: 0.4680 - val_accuracy: 0.9123\n",
      "\n",
      "Epoch 00066: val_loss improved from 0.47293 to 0.46797, saving model to F:\\Essential Files\\Coding Projects\\senior design 2\\weights.best.basic_mlp.hdf5\n",
      "Epoch 67/72\n",
      "224/224 [==============================] - 5s 23ms/step - loss: 0.3966 - accuracy: 0.8929 - val_loss: 0.4623 - val_accuracy: 0.9123\n",
      "\n",
      "Epoch 00067: val_loss improved from 0.46797 to 0.46231, saving model to F:\\Essential Files\\Coding Projects\\senior design 2\\weights.best.basic_mlp.hdf5\n",
      "Epoch 68/72\n",
      "224/224 [==============================] - 5s 24ms/step - loss: 0.3776 - accuracy: 0.8750 - val_loss: 0.4575 - val_accuracy: 0.9123\n",
      "\n",
      "Epoch 00068: val_loss improved from 0.46231 to 0.45751, saving model to F:\\Essential Files\\Coding Projects\\senior design 2\\weights.best.basic_mlp.hdf5\n",
      "Epoch 69/72\n",
      "224/224 [==============================] - 5s 24ms/step - loss: 0.3861 - accuracy: 0.8929 - val_loss: 0.4537 - val_accuracy: 0.9298\n",
      "\n",
      "Epoch 00069: val_loss improved from 0.45751 to 0.45369, saving model to F:\\Essential Files\\Coding Projects\\senior design 2\\weights.best.basic_mlp.hdf5\n",
      "Epoch 70/72\n",
      "224/224 [==============================] - 5s 24ms/step - loss: 0.3830 - accuracy: 0.8750 - val_loss: 0.4485 - val_accuracy: 0.9123\n",
      "\n",
      "Epoch 00070: val_loss improved from 0.45369 to 0.44846, saving model to F:\\Essential Files\\Coding Projects\\senior design 2\\weights.best.basic_mlp.hdf5\n",
      "Epoch 71/72\n",
      "224/224 [==============================] - 5s 23ms/step - loss: 0.3897 - accuracy: 0.8750 - val_loss: 0.4430 - val_accuracy: 0.9123\n",
      "\n",
      "Epoch 00071: val_loss improved from 0.44846 to 0.44304, saving model to F:\\Essential Files\\Coding Projects\\senior design 2\\weights.best.basic_mlp.hdf5\n",
      "Epoch 72/72\n",
      "224/224 [==============================] - 5s 23ms/step - loss: 0.3715 - accuracy: 0.9018 - val_loss: 0.4402 - val_accuracy: 0.9123\n",
      "\n",
      "Epoch 00072: val_loss improved from 0.44304 to 0.44020, saving model to F:\\Essential Files\\Coding Projects\\senior design 2\\weights.best.basic_mlp.hdf5\n",
      "Training completed in time:  0:06:30.397689\n"
     ]
    }
   ],
   "source": [
    "from keras.callbacks import ModelCheckpoint \n",
    "from datetime import datetime \n",
    "\n",
    "#num_epochs = 12\n",
    "#num_batch_size = 128\n",
    "\n",
    "num_epochs = 72\n",
    "num_batch_size = 900\n",
    "\n",
    "checkpointer = ModelCheckpoint(filepath='F:\\Essential Files\\Coding Projects\\senior design 2\\weights.best.basic_mlp.hdf5', \n",
    "                               verbose=1, save_best_only=True)\n",
    "start = datetime.now()\n",
    "\n",
    "model.fit(x_train, y_train, batch_size=num_batch_size, epochs=num_epochs, validation_data=(x_test, y_test), callbacks=[checkpointer], verbose=1)\n",
    "\n",
    "\n",
    "duration = datetime.now() - start\n",
    "print(\"Training completed in time: \", duration)"
   ]
  },
  {
   "cell_type": "code",
   "execution_count": 11,
   "metadata": {},
   "outputs": [
    {
     "name": "stdout",
     "output_type": "stream",
     "text": [
      "Training Accuracy:  0.9017857313156128\n",
      "Testing Accuracy:  0.9122806787490845\n"
     ]
    }
   ],
   "source": [
    "# Evaluating the model on the training and testing set\n",
    "score = model.evaluate(x_train, y_train, verbose=0)\n",
    "print(\"Training Accuracy: \", score[1])\n",
    "\n",
    "score = model.evaluate(x_test, y_test, verbose=0)\n",
    "print(\"Testing Accuracy: \", score[1])"
   ]
  },
  {
   "cell_type": "code",
   "execution_count": 12,
   "metadata": {},
   "outputs": [],
   "source": [
    "def print_prediction(file_name):\n",
    "    prediction_feature = extract_features2(file_name) \n",
    "    prediction_feature = prediction_feature.reshape(1, num_rows, num_columns, num_channels)\n",
    "\n",
    "    predicted_vector = model.predict_classes(prediction_feature)\n",
    "    predicted_class = le.inverse_transform(predicted_vector) \n",
    "    print(\"The predicted class is:\", predicted_class[0], '\\n') \n",
    "\n",
    "    predicted_proba_vector = model.predict_proba(prediction_feature) \n",
    "    predicted_proba = predicted_proba_vector[0]\n",
    "    for i in range(len(predicted_proba)): \n",
    "        category = le.inverse_transform(np.array([i]))\n",
    "        print(category[0], \"\\t\\t : \", format(predicted_proba[i], '.32f') )"
   ]
  },
  {
   "cell_type": "code",
   "execution_count": 14,
   "metadata": {},
   "outputs": [
    {
     "name": "stdout",
     "output_type": "stream",
     "text": [
      "The predicted class is: cat \n",
      "\n",
      "cat \t\t :  0.42054960131645202636718750000000\n",
      "chicken \t\t :  0.42022961378097534179687500000000\n",
      "dog \t\t :  0.15922069549560546875000000000000\n"
     ]
    }
   ],
   "source": [
    "filename = 'F:\\Essential Files\\Coding Projects\\senior design 2\\wav_files\\dog_barking_113.wav' \n",
    "print_prediction(filename)"
   ]
  },
  {
   "cell_type": "code",
   "execution_count": 15,
   "metadata": {},
   "outputs": [
    {
     "name": "stdout",
     "output_type": "stream",
     "text": [
      "The predicted class is: cat \n",
      "\n",
      "cat \t\t :  0.77720570564270019531250000000000\n",
      "chicken \t\t :  0.04165717586874961853027343750000\n",
      "dog \t\t :  0.18113709986209869384765625000000\n"
     ]
    }
   ],
   "source": [
    "filename = 'F:\\Essential Files\\Coding Projects\\senior design 2\\wav_files\\cat_97.wav' \n",
    "print_prediction(filename)"
   ]
  },
  {
   "cell_type": "code",
   "execution_count": 16,
   "metadata": {
    "scrolled": true
   },
   "outputs": [
    {
     "name": "stdout",
     "output_type": "stream",
     "text": [
      "The predicted class is: chicken \n",
      "\n",
      "cat \t\t :  0.24113853275775909423828125000000\n",
      "chicken \t\t :  0.40302091836929321289062500000000\n",
      "dog \t\t :  0.35584050416946411132812500000000\n"
     ]
    }
   ],
   "source": [
    "filename = 'F:\\Essential Files\\Coding Projects\\senior design 2\\wav_files\\dog_barking_114.wav' \n",
    "print_prediction(filename)"
   ]
  },
  {
   "cell_type": "code",
   "execution_count": 17,
   "metadata": {},
   "outputs": [
    {
     "name": "stdout",
     "output_type": "stream",
     "text": [
      "The predicted class is: cat \n",
      "\n",
      "cat \t\t :  0.73466926813125610351562500000000\n",
      "chicken \t\t :  0.05041634291410446166992187500000\n",
      "dog \t\t :  0.21491438150405883789062500000000\n"
     ]
    }
   ],
   "source": [
    "filename = 'F:\\Essential Files\\Coding Projects\\senior design 2\\wav_files\\cat_96.wav' \n",
    "print_prediction(filename)"
   ]
  },
  {
   "cell_type": "code",
   "execution_count": 18,
   "metadata": {
    "scrolled": true
   },
   "outputs": [
    {
     "name": "stdout",
     "output_type": "stream",
     "text": [
      "The predicted class is: dog \n",
      "\n",
      "cat \t\t :  0.02595599554479122161865234375000\n",
      "chicken \t\t :  0.00586052192375063896179199218750\n",
      "dog \t\t :  0.96818351745605468750000000000000\n"
     ]
    }
   ],
   "source": [
    "filename = 'F:\\Essential Files\\Coding Projects\\senior design 2\\wav_files\\dog_barking_70.wav' \n",
    "print_prediction(filename)"
   ]
  },
  {
   "cell_type": "code",
   "execution_count": 19,
   "metadata": {
    "scrolled": true
   },
   "outputs": [
    {
     "name": "stdout",
     "output_type": "stream",
     "text": [
      "The predicted class is: chicken \n",
      "\n",
      "cat \t\t :  0.20278236269950866699218750000000\n",
      "chicken \t\t :  0.59909230470657348632812500000000\n",
      "dog \t\t :  0.19812534749507904052734375000000\n"
     ]
    }
   ],
   "source": [
    "filename = 'F:\\Essential Files\\Coding Projects\\senior design 2\\wav_files\\\\rooster_10.wav' \n",
    "print_prediction(filename)"
   ]
  },
  {
   "cell_type": "code",
   "execution_count": 20,
   "metadata": {},
   "outputs": [
    {
     "name": "stdout",
     "output_type": "stream",
     "text": [
      "The predicted class is: chicken \n",
      "\n",
      "cat \t\t :  0.20410080254077911376953125000000\n",
      "chicken \t\t :  0.61332899332046508789062500000000\n",
      "dog \t\t :  0.18257024884223937988281250000000\n"
     ]
    }
   ],
   "source": [
    "filename = 'F:\\Essential Files\\Coding Projects\\senior design 2\\wav_files\\\\rooster_3.wav' \n",
    "print_prediction(filename)"
   ]
  },
  {
   "cell_type": "code",
   "execution_count": null,
   "metadata": {},
   "outputs": [],
   "source": []
  }
 ],
 "metadata": {
  "kernelspec": {
   "display_name": "Python 3",
   "language": "python",
   "name": "python3"
  },
  "language_info": {
   "codemirror_mode": {
    "name": "ipython",
    "version": 3
   },
   "file_extension": ".py",
   "mimetype": "text/x-python",
   "name": "python",
   "nbconvert_exporter": "python",
   "pygments_lexer": "ipython3",
   "version": "3.7.6"
  }
 },
 "nbformat": 4,
 "nbformat_minor": 2
}

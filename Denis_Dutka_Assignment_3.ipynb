{
 "cells": [
  {
   "cell_type": "markdown",
   "metadata": {
    "run_control": {
     "marked": true
    }
   },
   "source": [
    "# Train Test Splits, Cross Validation, and Linear Regression"
   ]
  },
  {
   "cell_type": "markdown",
   "metadata": {
    "run_control": {
     "marked": true
    }
   },
   "source": [
    "## Introduction\n",
    "\n",
    "We will be working with a data set based on [housing prices in Ames, Iowa](https://www.kaggle.com/c/house-prices-advanced-regression-techniques). It was compiled for educational use to be a modernized and expanded alternative to the well-known Boston Housing dataset. This version of the data set has had some missing values filled for convenience.\n",
    "\n",
    "There are an extensive number of features, so they've been described in the table below.\n",
    "\n",
    "### Predictor\n",
    "\n",
    "* SalePrice: The property's sale price in dollars. \n",
    "\n",
    "\n",
    "### Features\n",
    "\n",
    "<table>\n",
    "  <tbody>    \n",
    "    <tr valign=\"top\">\n",
    "      <td valign=\"top\">\n",
    "        <ul>\n",
    "          <li>MoSold: Month Sold</li>\n",
    "          <li>YrSold: Year Sold</li><br>\n",
    "          \n",
    "          <li>SaleType: Type of sale</li>\n",
    "          <li>SaleCondition: Condition of sale</li><br>\n",
    "\n",
    "          <li>MSSubClass: The building class</li>\n",
    "          <li>MSZoning: The general zoning classification</li><br>\n",
    "\n",
    "          <li>Neighborhood: Physical locations within Ames city limits</li>\n",
    "          <li>Street: Type of road access</li>\n",
    "          <li>Alley: Type of alley access</li><br>\n",
    "\n",
    "          <li>LotArea: Lot size in square feet</li>\n",
    "          <li>LotConfig: Lot configuration</li>\n",
    "          <li>LotFrontage: Linear feet of street connected to property</li>\n",
    "          <li>LotShape: General shape of property</li><br>\n",
    "\n",
    "          <li>LandSlope: Slope of property</li>\n",
    "          <li>LandContour: Flatness of the property</li><br>\n",
    "\n",
    "          <li>YearBuilt: Original construction date</li>\n",
    "          <li>YearRemodAdd: Remodel date</li>\n",
    "          <li>OverallQual: Overall material and finish quality</li>\n",
    "          <li>OverallCond: Overall condition rating</li><br>\n",
    "\n",
    "          <li>Utilities: Type of utilities available</li>\n",
    "          <li>Foundation: Type of foundation</li>\n",
    "          <li>Functional: Home functionality rating</li><br>\n",
    "\n",
    "          <li>BldgType: Type of dwelling</li>\n",
    "          <li>HouseStyle: Style of dwelling</li><br>\n",
    "          \n",
    "          <li>1stFlrSF: First Floor square feet</li>\n",
    "          <li>2ndFlrSF: Second floor square feet</li>\n",
    "          <li>LowQualFinSF: Low quality finished square feet (all floors)</li>\n",
    "          <li>GrLivArea: Above grade (ground) living area square feet</li>\n",
    "          <li>TotRmsAbvGrd: Total rooms above grade (does not include bathrooms)</li><br>\n",
    "\n",
    "          <li>Condition1: Proximity to main road or railroad</li>\n",
    "          <li>Condition2: Proximity to main road or railroad (if a second is present)</li><br>\n",
    "          \n",
    "          <li>RoofStyle: Type of roof</li>\n",
    "          <li>RoofMatl: Roof material</li><br>\n",
    "\n",
    "          <li>ExterQual: Exterior material quality</li>\n",
    "          <li>ExterCond: Present condition of the material on the exterior</li>\n",
    "          <li>Exterior1st: Exterior covering on house</li>\n",
    "          <li>Exterior2nd: Exterior covering on house (if more than one material)</li><br><br>\n",
    "          \n",
    "        </ul>\n",
    "      </td>\n",
    "      \n",
    "      <td valign=\"top\">\n",
    "        <ul>\n",
    "          <li>MasVnrType: Masonry veneer type</li>\n",
    "          <li>MasVnrArea: Masonry veneer area in square feet</li><br>\n",
    "          \n",
    "          <li>WoodDeckSF: Wood deck area in square feet</li>\n",
    "          <li>OpenPorchSF: Open porch area in square feet</li>\n",
    "          <li>EnclosedPorch: Enclosed porch area in square feet</li>\n",
    "          <li>3SsnPorch: Three season porch area in square feet</li>\n",
    "          <li>ScreenPorch: Screen porch area in square feet</li><br>\n",
    "\n",
    "          <li>PoolArea: Pool area in square feet</li>\n",
    "          <li>PoolQC: Pool quality</li>\n",
    "          <li>Fence: Fence quality</li>\n",
    "          <li>PavedDrive: Paved driveway</li><br>\n",
    "\n",
    "          <li>GarageType: Garage location</li>\n",
    "          <li>GarageYrBlt: Year garage was built</li>\n",
    "          <li>GarageFinish: Interior finish of the garage</li>\n",
    "          <li>GarageCars: Size of garage in car capacity</li>\n",
    "          <li>GarageArea: Size of garage in square feet</li>\n",
    "          <li>GarageQual: Garage quality</li>\n",
    "          <li>GarageCond: Garage condition</li><br>\n",
    "\n",
    "          <li>Heating: Type of heating</li>\n",
    "          <li>HeatingQC: Heating quality and condition</li>\n",
    "          <li>CentralAir: Central air conditioning</li>\n",
    "          <li>Electrical: Electrical system</li><br>\n",
    "          \n",
    "          <li>FullBath: Full bathrooms above grade</li>\n",
    "          <li>HalfBath: Half baths above grade</li><br>\n",
    "          \n",
    "          <li>BedroomAbvGr: Number of bedrooms above basement level</li><br>\n",
    "          \n",
    "          <li>KitchenAbvGr: Number of kitchens</li>\n",
    "          <li>KitchenQual: Kitchen quality</li><br>\n",
    "          \n",
    "          <li>Fireplaces: Number of fireplaces</li>\n",
    "          <li>FireplaceQu: Fireplace quality</li><br>\n",
    "          \n",
    "          <li>MiscFeature: Miscellaneous feature not covered in other categories</li>\n",
    "          <li>MiscVal: Value of miscellaneous feature</li><br>\n",
    "          \n",
    "          <li>BsmtQual: Height of the basement</li>\n",
    "          <li>BsmtCond: General condition of the basement</li>\n",
    "          <li>BsmtExposure: Walkout or garden level basement walls</li>\n",
    "          <li>BsmtFinType1: Quality of basement finished area</li>\n",
    "          <li>BsmtFinSF1: Type 1 finished square feet</li>\n",
    "          <li>BsmtFinType2: Quality of second finished area (if present)</li>\n",
    "          <li>BsmtFinSF2: Type 2 finished square feet</li>\n",
    "          <li>BsmtUnfSF: Unfinished square feet of basement area</li>\n",
    "          <li>BsmtFullBath: Basement full bathrooms</li>\n",
    "          <li>BsmtHalfBath: Basement half bathrooms</li>\n",
    "          <li>TotalBsmtSF: Total square feet of basement area</li>\n",
    "        </ul>\n",
    "      </td>\n",
    "    </tr>\n",
    "    \n",
    "  </tbody>\n",
    "</table>\n"
   ]
  },
  {
   "cell_type": "code",
   "execution_count": 1,
   "metadata": {
    "ExecuteTime": {
     "end_time": "2017-03-09T17:24:40.724060Z",
     "start_time": "2017-03-09T12:24:40.718739-05:00"
    },
    "run_control": {
     "marked": true
    }
   },
   "outputs": [],
   "source": [
    "from __future__ import print_function\n",
    "import os"
   ]
  },
  {
   "cell_type": "markdown",
   "metadata": {
    "run_control": {
     "marked": true
    }
   },
   "source": [
    "## Question 1\n",
    "\n",
    "* Import the data using Pandas and examine the shape. There are 79 feature columns plus the predictor, the sale price (`SalePrice`). \n",
    "* There are three different types: integers (`int64`), floats (`float64`), and strings (`object`, categoricals). Examine how many there are of each data type. "
   ]
  },
  {
   "cell_type": "code",
   "execution_count": 2,
   "metadata": {
    "run_control": {
     "marked": true
    }
   },
   "outputs": [],
   "source": [
    "import pandas as pd\n",
    "import numpy as np\n",
    "data=pd.read_csv(\"F:\\Essential Files\\Coding Projects\\Machine Learning Class 1\\Ames_Housing_Sales.csv\")\n",
    "\n"
   ]
  },
  {
   "cell_type": "code",
   "execution_count": 3,
   "metadata": {
    "run_control": {
     "marked": true
    }
   },
   "outputs": [
    {
     "data": {
      "text/plain": [
       "(1379, 80)"
      ]
     },
     "execution_count": 3,
     "metadata": {},
     "output_type": "execute_result"
    }
   ],
   "source": [
    "data.shape"
   ]
  },
  {
   "cell_type": "code",
   "execution_count": 4,
   "metadata": {},
   "outputs": [
    {
     "data": {
      "text/plain": [
       "object     43\n",
       "float64    21\n",
       "int64      16\n",
       "dtype: int64"
      ]
     },
     "execution_count": 4,
     "metadata": {},
     "output_type": "execute_result"
    }
   ],
   "source": [
    "data.dtypes.value_counts()"
   ]
  },
  {
   "cell_type": "markdown",
   "metadata": {
    "run_control": {
     "marked": true
    }
   },
   "source": [
    "## Question 2\n",
    "\n",
    "As discussed in the lecture, a significant challenge, particularly when dealing with data that have many columns, is ensuring each column gets encoded correctly. \n",
    "\n",
    "This is particularly true with data columns that are ordered categoricals (ordinals) vs unordered categoricals. Unordered categoricals should be one-hot encoded, however this can significantly increase the number of features and creates features that are highly correlated with each other.\n",
    "\n",
    "Determine how many total features would be present, relative to what currently exists, if all string (object) features are one-hot encoded. Recall that the total number of one-hot encoded columns is `n-1`, where `n` is the number of categories."
   ]
  },
  {
   "cell_type": "code",
   "execution_count": 5,
   "metadata": {
    "run_control": {
     "marked": true
    }
   },
   "outputs": [],
   "source": [
    "# Select the object (string) columns\n",
    "mask=data.dtypes==np.object\n",
    "Cat_columns=data.columns[mask]\n"
   ]
  },
  {
   "cell_type": "code",
   "execution_count": 6,
   "metadata": {
    "run_control": {
     "marked": true
    }
   },
   "outputs": [
    {
     "name": "stdout",
     "output_type": "stream",
     "text": [
      "215\n",
      "Neighborhood     25\n",
      "Exterior2nd      16\n",
      "Exterior1st      14\n",
      "SaleType          9\n",
      "Condition1        9\n",
      "HouseStyle        8\n",
      "RoofMatl          8\n",
      "Condition2        8\n",
      "Functional        7\n",
      "BsmtFinType2      7\n",
      "FireplaceQu       6\n",
      "Foundation        6\n",
      "RoofStyle         6\n",
      "SaleCondition     6\n",
      "BsmtFinType1      6\n",
      "Heating           6\n",
      "GarageType        6\n",
      "BsmtExposure      5\n",
      "Electrical        5\n",
      "Fence             5\n",
      "GarageCond        5\n",
      "GarageQual        5\n",
      "BsmtQual          5\n",
      "LotConfig         5\n",
      "MSZoning          5\n",
      "MiscFeature       5\n",
      "BldgType          5\n",
      "HeatingQC         5\n",
      "KitchenQual       4\n",
      "LandContour       4\n",
      "BsmtCond          4\n",
      "LotShape          4\n",
      "MasVnrType        4\n",
      "ExterQual         4\n",
      "ExterCond         4\n",
      "PoolQC            4\n",
      "Alley             3\n",
      "GarageFinish      3\n",
      "LandSlope         3\n",
      "PavedDrive        3\n",
      "CentralAir        2\n",
      "Street            2\n",
      "Utilities         2\n",
      "dtype: int64\n"
     ]
    }
   ],
   "source": [
    "# Determine how many extra columns would be created\n",
    "number_OneHotEncoder_Columns=(data[Cat_columns].apply(lambda x:x.nunique()).sort_values(ascending=False))\n",
    "reduce_OneHotEncoder_columns=number_OneHotEncoder_Columns.loc[number_OneHotEncoder_Columns>1]\n",
    "reduce_OneHotEncoder_columns-=1\n",
    "print (reduce_OneHotEncoder_columns.sum())\n",
    "print (number_OneHotEncoder_Columns)\n",
    "\n",
    "# No need to encode if there is only one value\n",
    "\n",
    "# Number of one-hot columns is one less than the number of categories\n",
    "\n",
    "# This is 215 columns, assuming the original ones are dropped. \n",
    "# This is quite a few extra columns!\n"
   ]
  },
  {
   "cell_type": "markdown",
   "metadata": {
    "run_control": {
     "marked": true
    }
   },
   "source": [
    "## Question 3\n",
    "\n",
    "Let's create a new data set where all of the above categorical features will be one-hot encoded. We can fit this data and see how it affects the results.\n",
    "\n",
    "* Used the dataframe `.copy()` method to create a completely separate copy of the dataframe for one-hot encoding\n",
    "* On this new dataframe, one-hot encode each of the appropriate columns and add it back to the dataframe. Be sure to drop the original column.\n",
    "* For the data that are not one-hot encoded, drop the columns that are string categoricals.\n",
    "\n",
    "For the first step, numerically encoding the string categoricals, either Scikit-learn;s `LabelEncoder` or `DictVectorizer` can be used. However, the former is probably easier since it doesn't require specifying a numerical value for each category, and we are going to one-hot encode all of the numerical values anyway. (Can you think of a time when `DictVectorizer` might be preferred?)"
   ]
  },
  {
   "cell_type": "code",
   "execution_count": 7,
   "metadata": {
    "run_control": {
     "marked": true
    }
   },
   "outputs": [],
   "source": [
    "from sklearn.preprocessing import OneHotEncoder, LabelEncoder\n",
    "\n",
    "# Copy of the data\n",
    "data_ohc = data.copy()\n",
    "\n",
    "# The encoders\n",
    "le = LabelEncoder()\n",
    "ohc = OneHotEncoder(categories='auto')\n",
    "\n",
    "for col in number_OneHotEncoder_Columns.index:\n",
    "    \n",
    "    # Integer encode the string categories\n",
    "    le_data=le.fit_transform(data_ohc[col]).astype(np.int)\n",
    "    \n",
    "    # Remove the original column from the dataframe\n",
    "    data_ohc=data_ohc.drop(col,axis=1)\n",
    "    \n",
    "    # One hot encode the data--this returns a sparse array\n",
    "    new_le_data=ohc.fit_transform(le_data.reshape(-1,1))\n",
    "    \n",
    "    # Create unique column names\n",
    "    n_cols=new_le_data.shape[1]\n",
    "    col_names=[''.join([col,str(x)]) for x in range(n_cols)]\n",
    "    \n",
    "    # Create the new dataframe\n",
    "    new_df=pd.DataFrame(new_le_data.toarray(),index=data_ohc.index,columns=col_names)\n",
    "    \n",
    "    # Append the new data to the dataframe\n",
    "    data_ohc=pd.concat([data_ohc,new_df],axis=1)"
   ]
  },
  {
   "cell_type": "code",
   "execution_count": 8,
   "metadata": {
    "run_control": {
     "marked": true
    }
   },
   "outputs": [
    {
     "data": {
      "text/plain": [
       "215"
      ]
     },
     "execution_count": 8,
     "metadata": {},
     "output_type": "execute_result"
    }
   ],
   "source": [
    "# Column difference is as calculated above\n",
    "data_ohc.shape[1]-data.shape[1]\n"
   ]
  },
  {
   "cell_type": "code",
   "execution_count": 9,
   "metadata": {
    "run_control": {
     "marked": true
    }
   },
   "outputs": [
    {
     "name": "stdout",
     "output_type": "stream",
     "text": [
      "float64    279\n",
      "int64       16\n",
      "dtype: int64\n",
      "float64    21\n",
      "int64      16\n",
      "dtype: int64\n"
     ]
    }
   ],
   "source": [
    "\n",
    "# Remove the string columns from the dataframe\n",
    "data_ohc = data_ohc.select_dtypes(exclude=['object'])\n",
    "data = data.select_dtypes(exclude=['object'])\n",
    "\n",
    "print(data_ohc.dtypes.value_counts())\n",
    "print(data.dtypes.value_counts())"
   ]
  },
  {
   "cell_type": "code",
   "execution_count": 10,
   "metadata": {},
   "outputs": [
    {
     "name": "stdout",
     "output_type": "stream",
     "text": [
      "295\n",
      "37\n"
     ]
    }
   ],
   "source": [
    "#print shape of data\n",
    "print(data_ohc.shape[1])\n",
    "print(data.shape[1])"
   ]
  },
  {
   "cell_type": "markdown",
   "metadata": {
    "run_control": {
     "marked": true
    }
   },
   "source": [
    "## Question 4\n",
    "\n",
    "* Create train and test splits of both data sets. To ensure the data gets split the same way, use the same `random_state` in each of the two splits.\n",
    "* For each data set, fit a basic linear regression model on the training data. \n",
    "* Calculate the mean squared error on both the train and test sets for the respective models. Which model produces smaller error on the test data and why?"
   ]
  },
  {
   "cell_type": "code",
   "execution_count": 15,
   "metadata": {
    "run_control": {
     "marked": true
    }
   },
   "outputs": [],
   "source": [
    "from sklearn.model_selection import train_test_split\n",
    "\n",
    "y_data = data.SalePrice\n",
    "x_data = data.drop(data.columns[-1],axis=1)\n",
    "#y_col = data[['SalePrice']]\n",
    "#feature_cols = [x for x in data.columns if x != y_col]\n",
    "#x_data = data[feature_cols]\n",
    "#y_data = data[y_col]\n",
    "\n",
    "X_train_data, X_test_data, y_train_data, y_test_data = train_test_split(x_data, y_data, test_size=0.3, random_state=42)\n",
    "\n",
    "#y_col = data_ohc[['SalePrice']]\n",
    "#feature_cols=[x for x in data_ohc.columns if x!= y_col]\n",
    "#x_data_ohc = data_ohc[feature_cols]\n",
    "#y_data_ohc = data_ohc[y_col]\n",
    "\n",
    "y_data_ohc = data_ohc.SalePrice\n",
    "x_data_ohc = data_ohc.drop(data_ohc.columns[-1],axis=1)\n",
    "\n",
    "X_train_data_ohc, X_test_data_ohc, y_train_data_ohc, y_test_data_ohc = train_test_split(\n",
    "    x_data_ohc, y_data_ohc, test_size=0.3, random_state=42)\n"
   ]
  },
  {
   "cell_type": "code",
   "execution_count": 16,
   "metadata": {
    "run_control": {
     "marked": true
    }
   },
   "outputs": [
    {
     "name": "stdout",
     "output_type": "stream",
     "text": [
      "1372182358.9346437\n",
      "1.888247647811324e-17\n"
     ]
    }
   ],
   "source": [
    "from sklearn.linear_model import LinearRegression\n",
    "from sklearn.metrics import mean_squared_error\n",
    "\n",
    "LR = LinearRegression()\n",
    "\n",
    "# Data that have not been one-hot encoded\n",
    "LR = LR.fit(X_train_data, y_train_data)\n",
    "y_predict = LR.predict(X_test_data)\n",
    "\n",
    "# Data that have been one-hot encoded\n",
    "LR_ohc = LR.fit(X_train_data_ohc, y_train_data_ohc)\n",
    "y_predict_ohc = LR.predict(X_test_data_ohc)\n",
    "\n",
    "\n",
    "# Storage for error values\n",
    "error = mean_squared_error(y_test_data, y_predict)\n",
    "error_ohc = mean_squared_error(y_test_data_ohc, y_predict_ohc)\n",
    "\n",
    "\n",
    "# Assemble the results\n",
    "print(error)\n",
    "print(error_ohc)"
   ]
  },
  {
   "cell_type": "markdown",
   "metadata": {
    "run_control": {
     "marked": true
    }
   },
   "source": [
    "Note that the error values on the one-hot encoded data are very different for the train and test data. In particular, the errors on the test data are much higher. Based on the lecture, this is because the one-hot encoded model is overfitting the data. We will learn how to deal with issues like this in the next lesson."
   ]
  },
  {
   "cell_type": "markdown",
   "metadata": {
    "run_control": {
     "marked": true
    }
   },
   "source": [
    "## Question 5\n",
    "\n",
    "For each of the data sets (one-hot encoded and not encoded):\n",
    "\n",
    "* Scale the all the non-hot encoded values using one of the following: `StandardScaler`, `MinMaxScaler`, `MaxAbsScaler`.\n",
    "* Compare the error calculated on the test sets\n",
    "\n",
    "Be sure to calculate the skew (to decide if a transformation should be done) and fit the scaler on *ONLY* the training data, but then apply it to both the train and test data identically."
   ]
  },
  {
   "cell_type": "code",
   "execution_count": 61,
   "metadata": {},
   "outputs": [
    {
     "name": "stdout",
     "output_type": "stream",
     "text": [
      "not_encoded-Standardscaling            1.275741e+10\n",
      "not_encoded-MinMaxscaling              1.275297e+10\n",
      "not_encoded-MaxAbsScalerscaling        1.275382e+10\n",
      "one_hot_encoded-Standardscaling        4.390787e-21\n",
      "one_hot_encoded-MinMaxscaling          3.656794e-21\n",
      "one_hot_encoded-MaxAbsScalerscaling    1.826159e-21\n",
      "--------------------------------------------------------------------------------\n",
      "not_encoded-Standardscaling 12757407276.198275\n",
      "not_encoded-MinMaxscaling 12752969249.012423\n",
      "not_encoded-MaxAbsScalerscaling 12753815046.076494\n",
      "one_hot_encoded-Standardscaling 4.3907865805964536e-21\n",
      "one_hot_encoded-MinMaxscaling 3.6567936583078546e-21\n",
      "one_hot_encoded-MaxAbsScalerscaling 1.826159045854267e-21\n"
     ]
    }
   ],
   "source": [
    "from sklearn.preprocessing import StandardScaler\n",
    "from sklearn.preprocessing import MinMaxScaler\n",
    "from sklearn.preprocessing import MaxAbsScaler\n",
    "\n",
    "# Mute the setting wtih a copy warnings\n",
    "pd.options.mode.chained_assignment = None\n",
    "\n",
    "scalers = {'Standard':StandardScaler(), 'MinMax':MinMaxScaler(), 'MaxAbsScaler':MaxAbsScaler()}\n",
    "\n",
    "training_test_sets = {'not_encoded': (X_train_data, y_train_data, X_test_data, y_train_data),\n",
    "                     'one_hot_encoded': (X_train_data_ohc, y_train_data_ohc, X_test_data_ohc, y_test_data_ohc)\n",
    "                     }\n",
    "mask = X_train_data.dtypes == np.float\n",
    "float_columns = X_train_data.columns[mask]\n",
    "\n",
    "errors = {}\n",
    "for encoding_label, (_X_train_data, _y_train_data, _X_test_data, _y_test_data) in training_test_sets.items():\n",
    "    \n",
    "    for scaler_label, scaler in scalers.items():\n",
    "        trainingset = _X_train_data.copy()\n",
    "        testset = _X_test_data.copy()\n",
    "    \n",
    "        trainingset[float_columns] = scaler.fit_transform(trainingset[float_columns])\n",
    "        testset[float_columns] = scaler.transform(testset[float_columns])\n",
    "    \n",
    "        LR.fit(trainingset, y_train_data)\n",
    "        predictions = LR.predict(testset)\n",
    "    \n",
    "        key = encoding_label + '-' + scaler_label + 'scaling'\n",
    "        \n",
    "#Series _y_test_data had to be resized to 414 to work with the mean squared error\n",
    "        _y_test_data = _y_test_data.iloc[:414]\n",
    "        errors[key] = mean_squared_error(_y_test_data, predictions)\n",
    "    \n",
    "errors = pd.Series(errors)\n",
    "print(errors.to_string())\n",
    "print('-'*80)\n",
    "for key, error_val in errors.items():\n",
    "    print(key, error_val)\n"
   ]
  },
  {
   "cell_type": "markdown",
   "metadata": {
    "run_control": {
     "marked": true
    }
   },
   "source": [
    "## Question 6\n",
    "\n",
    "Plot predictions vs actual for one of the models."
   ]
  },
  {
   "cell_type": "code",
   "execution_count": 64,
   "metadata": {
    "run_control": {
     "marked": true
    }
   },
   "outputs": [
    {
     "data": {
      "image/png": "[encoded data removed]",
      "text/plain": [
       "<Figure size 432x288 with 1 Axes>"
      ]
     },
     "metadata": {},
     "output_type": "display_data"
    }
   ],
   "source": [
    "import matplotlib.pyplot as plt\n",
    "import seaborn as sns\n",
    "%matplotlib inline\n",
    "\n",
    "sns.set_context('talk')\n",
    "sns.set_style('ticks')\n",
    "\n",
    "ax = plt.axes()\n",
    "\n",
    "ax.scatter(_y_test_data, predictions, alpha=.5)\n",
    "\n",
    "ax.set(xlabel='Ground truth', ylabel='Predictions',\n",
    "       title='Ames, Iowa House Price Prediction vs Truth, using Linear Regression');\n",
    "\n",
    "\n",
    "\n"
   ]
  },
  {
   "cell_type": "code",
   "execution_count": null,
   "metadata": {},
   "outputs": [],
   "source": []
  }
 ],
 "metadata": {
  "anaconda-cloud": {},
  "kernelspec": {
   "display_name": "Python 3",
   "language": "python",
   "name": "python3"
  },
  "language_info": {
   "codemirror_mode": {
    "name": "ipython",
    "version": 3
   },
   "file_extension": ".py",
   "mimetype": "text/x-python",
   "name": "python",
   "nbconvert_exporter": "python",
   "pygments_lexer": "ipython3",
   "version": "3.7.3"
  },
  "name": "Train_Test_Splits_Regularization_Exercises-ANSWERS",
  "notebookId": 2125319687183944
 },
 "nbformat": 4,
 "nbformat_minor": 1
}
